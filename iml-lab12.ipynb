{
 "cells": [
  {
   "cell_type": "code",
   "execution_count": 1,
   "id": "7cec9325",
   "metadata": {
    "_cell_guid": "b1076dfc-b9ad-4769-8c92-a6c4dae69d19",
    "_uuid": "8f2839f25d086af736a60e9eeb907d3b93b6e0e5",
    "execution": {
     "iopub.execute_input": "2023-11-06T06:34:17.441452Z",
     "iopub.status.busy": "2023-11-06T06:34:17.441109Z",
     "iopub.status.idle": "2023-11-06T06:34:17.832402Z",
     "shell.execute_reply": "2023-11-06T06:34:17.831015Z"
    },
    "papermill": {
     "duration": 0.398017,
     "end_time": "2023-11-06T06:34:17.835445",
     "exception": false,
     "start_time": "2023-11-06T06:34:17.437428",
     "status": "completed"
    },
    "tags": []
   },
   "outputs": [
    {
     "name": "stdout",
     "output_type": "stream",
     "text": [
      "\n",
      "Keys of Iris dataset:\n",
      "Index(['Date', 'Open', 'High', 'Low', 'Close', 'Adj Close', 'Volume'], dtype='object')\n",
      "\n",
      "Number of rows and columns of Iris dataset:\n",
      "(127, 7)\n"
     ]
    }
   ],
   "source": [
    "#name:-rathod dhruvi r.\n",
    "#enrollment no:-216270307090\n",
    "#Practical No.12: Write a Python program using Scikit-learn to print the keys, number of\n",
    "#rows-columns, feature names and the description of the given data.\n",
    "\n",
    "# Import necessary libraries\n",
    "import pandas as pd\n",
    "iris_data = pd.read_csv(\"/kaggle/input/iml-data/alphabet_stock_data.csv\")\n",
    "print(\"\\nKeys of Iris dataset:\")\n",
    "print(iris_data.keys())\n",
    "print(\"\\nNumber of rows and columns of Iris dataset:\")\n",
    "print(iris_data.shape)\n",
    "      \n"
   ]
  },
  {
   "cell_type": "code",
   "execution_count": null,
   "id": "49476d2e",
   "metadata": {
    "papermill": {
     "duration": 0.003442,
     "end_time": "2023-11-06T06:34:17.840959",
     "exception": false,
     "start_time": "2023-11-06T06:34:17.837517",
     "status": "completed"
    },
    "tags": []
   },
   "outputs": [],
   "source": []
  }
 ],
 "metadata": {
  "kernelspec": {
   "display_name": "Python 3",
   "language": "python",
   "name": "python3"
  },
  "language_info": {
   "codemirror_mode": {
    "name": "ipython",
    "version": 3
   },
   "file_extension": ".py",
   "mimetype": "text/x-python",
   "name": "python",
   "nbconvert_exporter": "python",
   "pygments_lexer": "ipython3",
   "version": "3.10.12"
  },
  "papermill": {
   "default_parameters": {},
   "duration": 3.928536,
   "end_time": "2023-11-06T06:34:18.261990",
   "environment_variables": {},
   "exception": null,
   "input_path": "__notebook__.ipynb",
   "output_path": "__notebook__.ipynb",
   "parameters": {},
   "start_time": "2023-11-06T06:34:14.333454",
   "version": "2.4.0"
  }
 },
 "nbformat": 4,
 "nbformat_minor": 5
}
