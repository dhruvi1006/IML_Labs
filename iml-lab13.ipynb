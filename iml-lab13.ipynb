{
 "cells": [
  {
   "cell_type": "code",
   "execution_count": 1,
   "id": "9ac25482",
   "metadata": {
    "_cell_guid": "b1076dfc-b9ad-4769-8c92-a6c4dae69d19",
    "_uuid": "8f2839f25d086af736a60e9eeb907d3b93b6e0e5",
    "execution": {
     "iopub.execute_input": "2023-11-06T06:38:44.392562Z",
     "iopub.status.busy": "2023-11-06T06:38:44.392100Z",
     "iopub.status.idle": "2023-11-06T06:38:46.487210Z",
     "shell.execute_reply": "2023-11-06T06:38:46.485938Z"
    },
    "papermill": {
     "duration": 2.103324,
     "end_time": "2023-11-06T06:38:46.490498",
     "exception": false,
     "start_time": "2023-11-06T06:38:44.387174",
     "status": "completed"
    },
    "tags": []
   },
   "outputs": [
    {
     "name": "stdout",
     "output_type": "stream",
     "text": [
      "Accuracy of the K-NN classifier with k=3: 100.00%\n"
     ]
    }
   ],
   "source": [
    "#216270307090\n",
    "#Dhruvi Radhod\n",
    "# Write a Python program to implement K-Nearest Neighbour supervised machine\n",
    "# learning algorithm for given dataset.\n",
    "from sklearn import datasets\n",
    "from sklearn.model_selection import train_test_split\n",
    "from sklearn.neighbors import KNeighborsClassifier\n",
    "from sklearn.metrics import accuracy_score\n",
    "iris = datasets.load_iris()\n",
    "X = iris.data \n",
    "y = iris.target \n",
    "X_train, X_test, y_train, y_test = train_test_split(X, y, test_size=0.2, random_state=42)\n",
    "k = 3 \n",
    "knn_classifier = KNeighborsClassifier(n_neighbors=k)\n",
    "knn_classifier.fit(X_train, y_train)\n",
    "y_pred = knn_classifier.predict(X_test)\n",
    "accuracy = accuracy_score(y_test, y_pred)\n",
    "print(f\"Accuracy of the K-NN classifier with k={k}: {accuracy * 100:.2f}%\")"
   ]
  },
  {
   "cell_type": "code",
   "execution_count": null,
   "id": "819e2486",
   "metadata": {
    "papermill": {
     "duration": 0.004761,
     "end_time": "2023-11-06T06:38:46.498159",
     "exception": false,
     "start_time": "2023-11-06T06:38:46.493398",
     "status": "completed"
    },
    "tags": []
   },
   "outputs": [],
   "source": []
  },
  {
   "cell_type": "code",
   "execution_count": null,
   "id": "3d9c7def",
   "metadata": {
    "papermill": {
     "duration": 0.002044,
     "end_time": "2023-11-06T06:38:46.502842",
     "exception": false,
     "start_time": "2023-11-06T06:38:46.500798",
     "status": "completed"
    },
    "tags": []
   },
   "outputs": [],
   "source": []
  }
 ],
 "metadata": {
  "kernelspec": {
   "display_name": "Python 3",
   "language": "python",
   "name": "python3"
  },
  "language_info": {
   "codemirror_mode": {
    "name": "ipython",
    "version": 3
   },
   "file_extension": ".py",
   "mimetype": "text/x-python",
   "name": "python",
   "nbconvert_exporter": "python",
   "pygments_lexer": "ipython3",
   "version": "3.10.12"
  },
  "papermill": {
   "default_parameters": {},
   "duration": 6.549316,
   "end_time": "2023-11-06T06:38:47.029600",
   "environment_variables": {},
   "exception": null,
   "input_path": "__notebook__.ipynb",
   "output_path": "__notebook__.ipynb",
   "parameters": {},
   "start_time": "2023-11-06T06:38:40.480284",
   "version": "2.4.0"
  }
 },
 "nbformat": 4,
 "nbformat_minor": 5
}
