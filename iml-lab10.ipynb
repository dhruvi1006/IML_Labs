{
 "cells": [
  {
   "cell_type": "code",
   "execution_count": 1,
   "id": "28e37f8d",
   "metadata": {
    "_cell_guid": "b1076dfc-b9ad-4769-8c92-a6c4dae69d19",
    "_uuid": "8f2839f25d086af736a60e9eeb907d3b93b6e0e5",
    "execution": {
     "iopub.execute_input": "2023-10-06T06:36:58.693036Z",
     "iopub.status.busy": "2023-10-06T06:36:58.692349Z",
     "iopub.status.idle": "2023-10-06T06:36:59.114298Z",
     "shell.execute_reply": "2023-10-06T06:36:59.113146Z"
    },
    "papermill": {
     "duration": 0.430057,
     "end_time": "2023-10-06T06:36:59.118270",
     "exception": false,
     "start_time": "2023-10-06T06:36:58.688213",
     "status": "completed"
    },
    "tags": []
   },
   "outputs": [
    {
     "name": "stdout",
     "output_type": "stream",
     "text": [
      "\n",
      "Missing values:\n",
      "      Date   Open   High    Low  Close  Adj Close  Volume\n",
      "0    False  False  False  False  False      False   False\n",
      "1    False  False  False  False  False      False   False\n",
      "2    False  False  False  False  False      False   False\n",
      "3    False  False  False  False  False      False   False\n",
      "4    False  False  False  False  False      False   False\n",
      "..     ...    ...    ...    ...    ...        ...     ...\n",
      "122  False  False  False  False  False      False   False\n",
      "123  False  False  False  False  False      False   False\n",
      "124  False  False  False  False  False      False   False\n",
      "125  False  False  False  False  False      False   False\n",
      "126  False  False  False  False  False      False   False\n",
      "\n",
      "[127 rows x 7 columns]\n",
      "\n",
      "Dropping the missing values:\n",
      "           Date         Open         High          Low        Close  \\\n",
      "0    01-04-2020  1122.000000  1129.689941  1097.449951  1105.619995   \n",
      "1    02-04-2020  1098.260010  1126.859985  1096.400024  1120.839966   \n",
      "2    03-04-2020  1119.015015  1123.540039  1079.810059  1097.880005   \n",
      "3    06-04-2020  1138.000000  1194.660034  1130.939941  1186.920044   \n",
      "4    07-04-2020  1221.000000  1225.000000  1182.229980  1186.510010   \n",
      "..          ...          ...          ...          ...          ...   \n",
      "122  24-09-2020  1411.030029  1443.708984  1409.849976  1428.290039   \n",
      "123  25-09-2020  1432.630005  1450.000000  1413.339966  1444.959961   \n",
      "124  28-09-2020  1474.209961  1476.800049  1449.301025  1464.520020   \n",
      "125  29-09-2020  1470.390015  1476.662964  1458.805054  1469.329956   \n",
      "126  30-09-2020  1466.800049  1489.750000  1459.880005  1469.599976   \n",
      "\n",
      "       Adj Close   Volume  \n",
      "0    1105.619995  2343100  \n",
      "1    1120.839966  1964900  \n",
      "2    1097.880005  2313400  \n",
      "3    1186.920044  2664700  \n",
      "4    1186.510010  2387300  \n",
      "..           ...      ...  \n",
      "122  1428.290039  1450200  \n",
      "123  1444.959961  1323000  \n",
      "124  1464.520020  2007900  \n",
      "125  1469.329956   978200  \n",
      "126  1469.599976  1700600  \n",
      "\n",
      "[127 rows x 7 columns]\n"
     ]
    }
   ],
   "source": [
    "# Name:-rathod dhruvi \n",
    "# Enrollment NO.:- 216270307090\n",
    "# to find and drop the missing values from the given dataset\n",
    "\n",
    "import pandas as pd\n",
    "a = pd.read_csv('/kaggle/input/iml-data/alphabet_stock_data.csv')\n",
    "print(\"\\nMissing values:\")\n",
    "print(a.isnull())\n",
    "print(\"\\nDropping the missing values:\")\n",
    "print(a.dropna())"
   ]
  },
  {
   "cell_type": "code",
   "execution_count": 2,
   "id": "ff1bbb0c",
   "metadata": {
    "execution": {
     "iopub.execute_input": "2023-10-06T06:36:59.128459Z",
     "iopub.status.busy": "2023-10-06T06:36:59.127174Z",
     "iopub.status.idle": "2023-10-06T06:36:59.153944Z",
     "shell.execute_reply": "2023-10-06T06:36:59.152781Z"
    },
    "papermill": {
     "duration": 0.035792,
     "end_time": "2023-10-06T06:36:59.156975",
     "exception": false,
     "start_time": "2023-10-06T06:36:59.121183",
     "status": "completed"
    },
    "tags": []
   },
   "outputs": [
    {
     "name": "stdout",
     "output_type": "stream",
     "text": [
      "         name  age\n",
      "0         Jal   82\n",
      "1      Dhruvi   90\n",
      "2      Kinjal   91\n",
      "3  Bagthariya   80\n",
      "4         Jal   82\n",
      "\n",
      "         name  age\n",
      "0         Jal   82\n",
      "1      Dhruvi   90\n",
      "2      Kinjal   91\n",
      "3  Bagthariya   80\n"
     ]
    }
   ],
   "source": [
    "# Name:-rathod dhruvi \n",
    "# Enrollment NO.:- 216270307090\n",
    "# to remove the duplicates from the given dataset.\n",
    "import pandas as pd\n",
    "data = { \"name\": [\"Jal\", \"Dhruvi\", \"Kinjal\", \"Bagthariya\", \"Jal\"], \"age\": [82, 90, 91, 80, 82] }\n",
    "df = pd.DataFrame(data)\n",
    "newdf = df.drop_duplicates()\n",
    "print(df)\n",
    "print()\n",
    "print(newdf)"
   ]
  },
  {
   "cell_type": "code",
   "execution_count": null,
   "id": "8102ac06",
   "metadata": {
    "papermill": {
     "duration": 0.001647,
     "end_time": "2023-10-06T06:36:59.160814",
     "exception": false,
     "start_time": "2023-10-06T06:36:59.159167",
     "status": "completed"
    },
    "tags": []
   },
   "outputs": [],
   "source": []
  }
 ],
 "metadata": {
  "kernelspec": {
   "display_name": "Python 3",
   "language": "python",
   "name": "python3"
  },
  "language_info": {
   "codemirror_mode": {
    "name": "ipython",
    "version": 3
   },
   "file_extension": ".py",
   "mimetype": "text/x-python",
   "name": "python",
   "nbconvert_exporter": "python",
   "pygments_lexer": "ipython3",
   "version": "3.10.12"
  },
  "papermill": {
   "default_parameters": {},
   "duration": 4.21667,
   "end_time": "2023-10-06T06:36:59.685063",
   "environment_variables": {},
   "exception": null,
   "input_path": "__notebook__.ipynb",
   "output_path": "__notebook__.ipynb",
   "parameters": {},
   "start_time": "2023-10-06T06:36:55.468393",
   "version": "2.4.0"
  }
 },
 "nbformat": 4,
 "nbformat_minor": 5
}
