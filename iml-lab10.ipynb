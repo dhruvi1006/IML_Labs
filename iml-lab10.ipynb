{
 "cells": [
  {
   "cell_type": "code",
   "execution_count": 1,
   "id": "95f9788f",
   "metadata": {
    "_cell_guid": "b1076dfc-b9ad-4769-8c92-a6c4dae69d19",
    "_uuid": "8f2839f25d086af736a60e9eeb907d3b93b6e0e5",
    "execution": {
     "iopub.execute_input": "2023-10-06T06:42:29.672892Z",
     "iopub.status.busy": "2023-10-06T06:42:29.672507Z",
     "iopub.status.idle": "2023-10-06T06:42:30.072034Z",
     "shell.execute_reply": "2023-10-06T06:42:30.069584Z"
    },
    "papermill": {
     "duration": 0.406013,
     "end_time": "2023-10-06T06:42:30.075189",
     "exception": false,
     "start_time": "2023-10-06T06:42:29.669176",
     "status": "completed"
    },
    "tags": []
   },
   "outputs": [
    {
     "name": "stdout",
     "output_type": "stream",
     "text": [
      "Missing values:\n",
      "      Date   Open   High    Low  Close  Adj Close  Volume\n",
      "0    False  False  False  False  False      False   False\n",
      "1    False  False  False  False  False      False   False\n",
      "2    False  False  False  False  False      False   False\n",
      "3    False  False  False  False  False      False   False\n",
      "4    False  False  False  False  False      False   False\n",
      "..     ...    ...    ...    ...    ...        ...     ...\n",
      "122  False  False  False  False  False      False   False\n",
      "123  False  False  False  False  False      False   False\n",
      "124  False  False  False  False  False      False   False\n",
      "125  False  False  False  False  False      False   False\n",
      "126  False  False  False  False  False      False   False\n",
      "\n",
      "[127 rows x 7 columns]\n",
      "\n",
      "Dropping the missing values:\n",
      "           Date         Open         High          Low        Close  \\\n",
      "0    01-04-2020  1122.000000  1129.689941  1097.449951  1105.619995   \n",
      "1    02-04-2020  1098.260010  1126.859985  1096.400024  1120.839966   \n",
      "2    03-04-2020  1119.015015  1123.540039  1079.810059  1097.880005   \n",
      "3    06-04-2020  1138.000000  1194.660034  1130.939941  1186.920044   \n",
      "4    07-04-2020  1221.000000  1225.000000  1182.229980  1186.510010   \n",
      "..          ...          ...          ...          ...          ...   \n",
      "122  24-09-2020  1411.030029  1443.708984  1409.849976  1428.290039   \n",
      "123  25-09-2020  1432.630005  1450.000000  1413.339966  1444.959961   \n",
      "124  28-09-2020  1474.209961  1476.800049  1449.301025  1464.520020   \n",
      "125  29-09-2020  1470.390015  1476.662964  1458.805054  1469.329956   \n",
      "126  30-09-2020  1466.800049  1489.750000  1459.880005  1469.599976   \n",
      "\n",
      "       Adj Close   Volume  \n",
      "0    1105.619995  2343100  \n",
      "1    1120.839966  1964900  \n",
      "2    1097.880005  2313400  \n",
      "3    1186.920044  2664700  \n",
      "4    1186.510010  2387300  \n",
      "..           ...      ...  \n",
      "122  1428.290039  1450200  \n",
      "123  1444.959961  1323000  \n",
      "124  1464.520020  2007900  \n",
      "125  1469.329956   978200  \n",
      "126  1469.599976  1700600  \n",
      "\n",
      "[127 rows x 7 columns]\n"
     ]
    }
   ],
   "source": [
    "# Name:-rathod dhruvi \n",
    "# Enrollment NO.:- 216270307090\n",
    "# to find and drop the missing values from the given dataset\n",
    "\n",
    "import pandas as pd\n",
    "a = pd.read_csv('/kaggle/input/iml-data/alphabet_stock_data.csv')\n",
    "print(\"Missing values:\")\n",
    "print(a.isnull())\n",
    "print(\"\\nDropping the missing values:\")\n",
    "print(a.dropna())"
   ]
  },
  {
   "cell_type": "code",
   "execution_count": 2,
   "id": "25a1ee38",
   "metadata": {
    "execution": {
     "iopub.execute_input": "2023-10-06T06:42:30.082093Z",
     "iopub.status.busy": "2023-10-06T06:42:30.081682Z",
     "iopub.status.idle": "2023-10-06T06:42:30.103018Z",
     "shell.execute_reply": "2023-10-06T06:42:30.102204Z"
    },
    "papermill": {
     "duration": 0.029407,
     "end_time": "2023-10-06T06:42:30.106495",
     "exception": false,
     "start_time": "2023-10-06T06:42:30.077088",
     "status": "completed"
    },
    "tags": []
   },
   "outputs": [
    {
     "name": "stdout",
     "output_type": "stream",
     "text": [
      "         name  age\n",
      "0      Dhruvi   90\n",
      "1         Jal   82\n",
      "2      Kinjal   91\n",
      "3  Bagthariya   80\n"
     ]
    }
   ],
   "source": [
    "# Name:-rathod dhruvi \n",
    "# Enrollment NO.:- 216270307090\n",
    "# to remove the duplicates from the given dataset.\n",
    "import pandas as pd\n",
    "a = { \"name\": [\"Dhruvi\", \"Jal\",\"Kinjal\", \"Bagthariya\", \"Jal\"], \"age\": [ 90,82, 91, 80, 82] }\n",
    "b = pd.DataFrame(a)\n",
    "c = b.drop_duplicates()\n",
    "print(c)"
   ]
  }
 ],
 "metadata": {
  "kernelspec": {
   "display_name": "Python 3",
   "language": "python",
   "name": "python3"
  },
  "language_info": {
   "codemirror_mode": {
    "name": "ipython",
    "version": 3
   },
   "file_extension": ".py",
   "mimetype": "text/x-python",
   "name": "python",
   "nbconvert_exporter": "python",
   "pygments_lexer": "ipython3",
   "version": "3.10.12"
  },
  "papermill": {
   "default_parameters": {},
   "duration": 4.02973,
   "end_time": "2023-10-06T06:42:30.529120",
   "environment_variables": {},
   "exception": null,
   "input_path": "__notebook__.ipynb",
   "output_path": "__notebook__.ipynb",
   "parameters": {},
   "start_time": "2023-10-06T06:42:26.499390",
   "version": "2.4.0"
  }
 },
 "nbformat": 4,
 "nbformat_minor": 5
}
