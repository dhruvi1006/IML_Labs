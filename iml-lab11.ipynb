{
 "cells": [
  {
   "cell_type": "code",
   "execution_count": 1,
   "id": "059bf642",
   "metadata": {
    "_cell_guid": "b1076dfc-b9ad-4769-8c92-a6c4dae69d19",
    "_uuid": "8f2839f25d086af736a60e9eeb907d3b93b6e0e5",
    "execution": {
     "iopub.execute_input": "2023-10-06T06:53:40.099399Z",
     "iopub.status.busy": "2023-10-06T06:53:40.098960Z",
     "iopub.status.idle": "2023-10-06T06:53:40.498810Z",
     "shell.execute_reply": "2023-10-06T06:53:40.497647Z"
    },
    "papermill": {
     "duration": 0.406923,
     "end_time": "2023-10-06T06:53:40.502302",
     "exception": false,
     "start_time": "2023-10-06T06:53:40.095379",
     "status": "completed"
    },
    "tags": []
   },
   "outputs": [
    {
     "name": "stdout",
     "output_type": "stream",
     "text": [
      "\n",
      "Rows and columns has a NaN:\n",
      "Empty DataFrame\n",
      "Columns: []\n",
      "Index: [0, 1, 2, 3, 4]\n",
      "\n",
      "Drop rows with any NaNs:\n",
      "     Year       WHO region                Country Beverage Types  Display Value\n",
      "0  0  1986  Western Pacific               Viet Na...                           \n",
      "1  1  1986         Americas                Urugua...                           \n",
      "2  2  1985           Africa           Cte d'Ivoir...                           \n",
      "3  3  1986         Americas               Colombi...                           \n",
      "4  4  1987         Americas  Saint Kitts and Nevi...                           \n"
     ]
    }
   ],
   "source": [
    "# Name:- rathod dhruvi\n",
    "# Enrollment NO.:- 216270307090\n",
    "import pandas as pd\n",
    "a = pd.read_csv('/kaggle/input/iml-data/world_alcohol.csv')\n",
    "print(\"\\nRows and columns has a NaN:\")\n",
    "print(a.loc[:,a.isnull().any()])\n",
    "print(\"\\nDrop rows with any NaNs:\")\n",
    "print(a.dropna(how='any'))"
   ]
  },
  {
   "cell_type": "code",
   "execution_count": null,
   "id": "b1ebc43c",
   "metadata": {
    "papermill": {
     "duration": 0.003388,
     "end_time": "2023-10-06T06:53:40.507541",
     "exception": false,
     "start_time": "2023-10-06T06:53:40.504153",
     "status": "completed"
    },
    "tags": []
   },
   "outputs": [],
   "source": []
  }
 ],
 "metadata": {
  "kernelspec": {
   "display_name": "Python 3",
   "language": "python",
   "name": "python3"
  },
  "language_info": {
   "codemirror_mode": {
    "name": "ipython",
    "version": 3
   },
   "file_extension": ".py",
   "mimetype": "text/x-python",
   "name": "python",
   "nbconvert_exporter": "python",
   "pygments_lexer": "ipython3",
   "version": "3.10.12"
  },
  "papermill": {
   "default_parameters": {},
   "duration": 4.113459,
   "end_time": "2023-10-06T06:53:41.030353",
   "environment_variables": {},
   "exception": null,
   "input_path": "__notebook__.ipynb",
   "output_path": "__notebook__.ipynb",
   "parameters": {},
   "start_time": "2023-10-06T06:53:36.916894",
   "version": "2.4.0"
  }
 },
 "nbformat": 4,
 "nbformat_minor": 5
}
